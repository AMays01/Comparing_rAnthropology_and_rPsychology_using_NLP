{
 "cells": [
  {
   "cell_type": "markdown",
   "id": "e9e3754d-c3b5-478c-896b-3bf05ffaa1f4",
   "metadata": {},
   "source": [
    "## Project 3: Web Api's and NLP "
   ]
  },
  {
   "cell_type": "markdown",
   "id": "5fa220d7-1cdf-42ef-896e-0433bd76df86",
   "metadata": {},
   "source": [
    "## Problem Statement:\n",
    "The marketing department for a liberal arts college needs to increase student enrollment for their Psychology and Anthropology departments. These study disciplines share many similarities, therefore they need distinctive keywords to differentiate their marketing campaigns to increase enrollment.  \n",
    "As a data scientist for the college, I need to find the most predictive words/phrases that help classify psychology and anthropology using subreddit posts as a resource.\n",
    "\t"
   ]
  },
  {
   "cell_type": "code",
   "execution_count": 112,
   "id": "35cd58aa-f51c-44b9-9d7a-777fc146b370",
   "metadata": {},
   "outputs": [],
   "source": [
    "import pandas as pd\n",
    "import numpy as np\n",
    "from nltk.tokenize import RegexpTokenizer \n",
    "from sklearn.feature_extraction.text import CountVectorizer, TfidfVectorizer\n",
    "from sklearn.model_selection import train_test_split, GridSearchCV, cross_val_score\n",
    "from sklearn.linear_model import LogisticRegressionCV \n",
    "from sklearn.pipeline import Pipeline\n",
    "from sklearn.naive_bayes import MultinomialNB\n",
    "from sklearn.ensemble import RandomForestClassifier, ExtraTreesClassifier\n",
    "import time\n",
    "import matplotlib as plt\n",
    "import plotly_express as px\n",
    "import seaborn as sns\n"
   ]
  },
  {
   "cell_type": "markdown",
   "id": "50b18bcb-7d9b-4dcd-8c69-0459a194c90f",
   "metadata": {},
   "source": [
    "# Preprocessing and Modeling"
   ]
  },
  {
   "cell_type": "code",
   "execution_count": 2,
   "id": "dde5198d-7640-49d5-bd03-dbf736ff8ceb",
   "metadata": {},
   "outputs": [],
   "source": [
    "# Read in both cleaned dataframes\n",
    "anthropology = pd.read_csv('./data/anthropology_cleaned.csv')\n",
    "psychology = pd.read_csv('./data/psychology_cleaned.csv')"
   ]
  },
  {
   "cell_type": "markdown",
   "id": "e19cd30e-c506-411d-8edf-494ce60d2885",
   "metadata": {},
   "source": [
    "### Dropped Unnamed columns and merged anthropology and psychology dataframes"
   ]
  },
  {
   "cell_type": "code",
   "execution_count": 3,
   "id": "55bb602e-0278-467f-954e-888ed3be9257",
   "metadata": {},
   "outputs": [],
   "source": [
    "anthropology.drop(columns=['Unnamed: 0'], inplace=True)"
   ]
  },
  {
   "cell_type": "code",
   "execution_count": 4,
   "id": "86cb2942-5cef-4d58-9558-3637ff5b87ef",
   "metadata": {},
   "outputs": [],
   "source": [
    "psychology.drop(columns=['Unnamed: 0'], inplace=True)"
   ]
  },
  {
   "cell_type": "code",
   "execution_count": 5,
   "id": "5bf8bca8-ad6e-4f8b-9bac-5265a4c7818c",
   "metadata": {},
   "outputs": [],
   "source": [
    "merged_df = pd.concat([anthropology, psychology])"
   ]
  },
  {
   "cell_type": "code",
   "execution_count": 6,
   "id": "fb8938c1-485a-4d23-bc0b-91c87dd86fbc",
   "metadata": {},
   "outputs": [
    {
     "data": {
      "text/html": [
       "<div>\n",
       "<style scoped>\n",
       "    .dataframe tbody tr th:only-of-type {\n",
       "        vertical-align: middle;\n",
       "    }\n",
       "\n",
       "    .dataframe tbody tr th {\n",
       "        vertical-align: top;\n",
       "    }\n",
       "\n",
       "    .dataframe thead th {\n",
       "        text-align: right;\n",
       "    }\n",
       "</style>\n",
       "<table border=\"1\" class=\"dataframe\">\n",
       "  <thead>\n",
       "    <tr style=\"text-align: right;\">\n",
       "      <th></th>\n",
       "      <th>body</th>\n",
       "      <th>subreddit</th>\n",
       "      <th>author</th>\n",
       "      <th>created_utc</th>\n",
       "      <th>body_length</th>\n",
       "      <th>body_word_count</th>\n",
       "    </tr>\n",
       "  </thead>\n",
       "  <tbody>\n",
       "    <tr>\n",
       "      <th>0</th>\n",
       "      <td>This all seems really helpful, thank you so much!</td>\n",
       "      <td>AskAnthropology</td>\n",
       "      <td>2npii</td>\n",
       "      <td>1634586224</td>\n",
       "      <td>49</td>\n",
       "      <td>9</td>\n",
       "    </tr>\n",
       "    <tr>\n",
       "      <th>1</th>\n",
       "      <td>Adrienne Meyer has done quite a bit of researc...</td>\n",
       "      <td>AskAnthropology</td>\n",
       "      <td>umbrabates</td>\n",
       "      <td>1634580081</td>\n",
       "      <td>1283</td>\n",
       "      <td>199</td>\n",
       "    </tr>\n",
       "    <tr>\n",
       "      <th>2</th>\n",
       "      <td>&amp;gt;Grave Matters: A Lively History of Death A...</td>\n",
       "      <td>AskAnthropology</td>\n",
       "      <td>Cryptayy</td>\n",
       "      <td>1634576037</td>\n",
       "      <td>201</td>\n",
       "      <td>33</td>\n",
       "    </tr>\n",
       "    <tr>\n",
       "      <th>3</th>\n",
       "      <td>&amp;gt; I was also thinking about the books from ...</td>\n",
       "      <td>AskAnthropology</td>\n",
       "      <td>twiggez-vous</td>\n",
       "      <td>1634575441</td>\n",
       "      <td>272</td>\n",
       "      <td>47</td>\n",
       "    </tr>\n",
       "    <tr>\n",
       "      <th>4</th>\n",
       "      <td>In England, there were specific laws about thi...</td>\n",
       "      <td>AskAnthropology</td>\n",
       "      <td>dokh</td>\n",
       "      <td>1634573321</td>\n",
       "      <td>706</td>\n",
       "      <td>121</td>\n",
       "    </tr>\n",
       "  </tbody>\n",
       "</table>\n",
       "</div>"
      ],
      "text/plain": [
       "                                                body        subreddit  \\\n",
       "0  This all seems really helpful, thank you so much!  AskAnthropology   \n",
       "1  Adrienne Meyer has done quite a bit of researc...  AskAnthropology   \n",
       "2  &gt;Grave Matters: A Lively History of Death A...  AskAnthropology   \n",
       "3  &gt; I was also thinking about the books from ...  AskAnthropology   \n",
       "4  In England, there were specific laws about thi...  AskAnthropology   \n",
       "\n",
       "         author  created_utc  body_length  body_word_count  \n",
       "0         2npii   1634586224           49                9  \n",
       "1    umbrabates   1634580081         1283              199  \n",
       "2      Cryptayy   1634576037          201               33  \n",
       "3  twiggez-vous   1634575441          272               47  \n",
       "4          dokh   1634573321          706              121  "
      ]
     },
     "execution_count": 6,
     "metadata": {},
     "output_type": "execute_result"
    }
   ],
   "source": [
    "merged_df.head(5)"
   ]
  },
  {
   "cell_type": "code",
   "execution_count": 7,
   "id": "a29757da-1abd-483e-8a7b-75679ad09e87",
   "metadata": {},
   "outputs": [],
   "source": [
    "#Using tokenizer to further clean merged dataframe\n",
    "tokenizer = RegexpTokenizer('\\w+|\\$[\\d\\.]+|\\S+')"
   ]
  },
  {
   "cell_type": "code",
   "execution_count": 8,
   "id": "a7ddd246-4246-4363-8d72-a5a9936345a2",
   "metadata": {},
   "outputs": [],
   "source": [
    "merged_df['token_body'] = merged_df['body'].apply(tokenizer.tokenize)"
   ]
  },
  {
   "cell_type": "code",
   "execution_count": 9,
   "id": "6f107089-622e-4516-891e-33cf454464a6",
   "metadata": {},
   "outputs": [
    {
     "data": {
      "text/plain": [
       "0        [This, all, seems, really, helpful, ,, thank, ...\n",
       "1        [Adrienne, Meyer, has, done, quite, a, bit, of...\n",
       "2        [&gt;Grave, Matters, :, A, Lively, History, of...\n",
       "3        [&gt;, I, was, also, thinking, about, the, boo...\n",
       "4        [In, England, ,, there, were, specific, laws, ...\n",
       "                               ...                        \n",
       "24995    [Any, recommendation, to, sources, (books,, po...\n",
       "24996    [What, they, mean, by, it, is, it, 's, dangero...\n",
       "24997    [I, feel, the, same, way, about, Pride, in, To...\n",
       "24998    [Is, there, a, term, for, when, ,, in, an, arg...\n",
       "24999    [A, word, itself, is, empty, ., It, forms, mea...\n",
       "Name: token_body, Length: 50000, dtype: object"
      ]
     },
     "execution_count": 9,
     "metadata": {},
     "output_type": "execute_result"
    }
   ],
   "source": [
    "merged_df['token_body']"
   ]
  },
  {
   "cell_type": "markdown",
   "id": "03c3eeeb-a4a3-4a7b-9b82-c1bf3bd39d72",
   "metadata": {},
   "source": [
    "## Preprocessing"
   ]
  },
  {
   "cell_type": "code",
   "execution_count": 68,
   "id": "4b418ba9-f4e9-40f1-8fd6-fae187ef0835",
   "metadata": {},
   "outputs": [],
   "source": [
    "#this function takes a list of words and preprocesses them for modeling using CountVectorizer()\n",
    "def get_top_n_words(corpus, n=None):\n",
    "    cvec = CountVectorizer(stop_words = 'english').fit(corpus)\n",
    "    bag_of_words = cvec.transform(corpus)\n",
    "    sum_words = bag_of_words.sum(axis=0) \n",
    "    words_freq = [(word, sum_words[0, idx]) for word, idx in cvec.vocabulary_.items()]\n",
    "    words_freq =sorted(words_freq, key = lambda x: x[1], reverse=True)\n",
    "    return words_freq[:n]\n",
    "#code adapted from https://towardsdatascience.com/a-complete-exploratory-data-analysis-and-visualization-for-text-data-29fb1b96fb6a"
   ]
  },
  {
   "cell_type": "markdown",
   "id": "696c4122-890f-40a1-946c-5213e1e22d37",
   "metadata": {},
   "source": [
    "### The most repeated words for both subreddits are very similar."
   ]
  },
  {
   "cell_type": "code",
   "execution_count": 69,
   "id": "55f732c7-d836-4c89-8d96-89f4573d547f",
   "metadata": {},
   "outputs": [
    {
     "name": "stdout",
     "output_type": "stream",
     "text": [
      "people 8958\n",
      "like 7055\n",
      "https 6218\n",
      "just 5971\n",
      "think 4846\n",
      "don 4582\n",
      "time 4167\n",
      "know 4061\n",
      "anthropology 3999\n",
      "really 3571\n",
      "gt 3483\n",
      "different 3451\n",
      "com 3216\n",
      "human 3215\n",
      "way 3210\n",
      "question 3190\n",
      "www 3170\n",
      "culture 3157\n",
      "years 3133\n",
      "work 3111\n",
      "good 2812\n",
      "lot 2776\n",
      "ve 2700\n",
      "say 2669\n",
      "modern 2641\n"
     ]
    }
   ],
   "source": [
    "#Getting the top 25 words from r/anthropology\n",
    "common_words = get_top_n_words(anthropology['body'], 25)\n",
    "for word, freq in common_words:\n",
    "    anth_words = (word, freq)\n",
    "    print(word,freq)"
   ]
  },
  {
   "cell_type": "code",
   "execution_count": 30,
   "id": "b0b9a0c0-072c-45d8-ba94-eb560d5c98eb",
   "metadata": {},
   "outputs": [
    {
     "name": "stdout",
     "output_type": "stream",
     "text": [
      "people 6772\n",
      "like 4959\n",
      "just 4549\n",
      "https 4107\n",
      "don 3636\n",
      "think 3299\n",
      "study 2711\n",
      "message 2668\n",
      "com 2653\n",
      "questions 2468\n",
      "know 2431\n",
      "time 2294\n",
      "feel 2221\n",
      "psychology 2198\n",
      "research 2170\n",
      "moderators 1994\n",
      "thank 1949\n",
      "ve 1933\n",
      "way 1914\n",
      "really 1911\n",
      "amp 1898\n",
      "does 1886\n",
      "good 1880\n",
      "submission 1801\n",
      "www 1799\n"
     ]
    }
   ],
   "source": [
    "#Getting the top 25 words from r/psychology\n",
    "common_words = get_top_n_words(psychology['body'], 25)\n",
    "for word, freq in common_words:\n",
    "    psy_words = (word,freq)\n",
    "    print(word, freq)"
   ]
  },
  {
   "cell_type": "markdown",
   "id": "cc08fcf1-db59-4738-8830-e99c9855c9da",
   "metadata": {},
   "source": [
    "### Building DataFrame for r/AskAnthropology 'words' and r/psychology 'words'"
   ]
  },
  {
   "cell_type": "code",
   "execution_count": 80,
   "id": "552bcd83-d88d-462b-8925-0eec40e443d0",
   "metadata": {},
   "outputs": [],
   "source": [
    "anth_list =['people', 'like','https','just','think','don','time','know','anthropology','really','gt','different','com','human','way','question','www','culture','years','work','good','lot','ve','say','modern']"
   ]
  },
  {
   "cell_type": "code",
   "execution_count": 81,
   "id": "c0bac858-fe7e-421e-952a-7c1227800c4e",
   "metadata": {},
   "outputs": [],
   "source": [
    "anth_list=pd.DataFrame(anth_list)"
   ]
  },
  {
   "cell_type": "code",
   "execution_count": 82,
   "id": "17c39405-6482-4bef-8d9e-b0a9abd0ff53",
   "metadata": {},
   "outputs": [],
   "source": [
    "number_anth = [8958,7055,6218,5971,4846,4582,4167,4061,3999,3571,3483,3451,3216,3215,3210,3190,3170,3157,3133,3111,2812,2776,2700,2669,2641,]"
   ]
  },
  {
   "cell_type": "code",
   "execution_count": 83,
   "id": "d32f4667-27e2-432b-9d78-7cb3f54a04d5",
   "metadata": {},
   "outputs": [],
   "source": [
    "number_anth = pd.DataFrame(number_anth)"
   ]
  },
  {
   "cell_type": "code",
   "execution_count": 84,
   "id": "ca631085-47f1-4da4-8741-5d0494fa4bbf",
   "metadata": {},
   "outputs": [],
   "source": [
    "anth_list.insert(loc=1,column='number',value=number_anth)"
   ]
  },
  {
   "cell_type": "code",
   "execution_count": 87,
   "id": "3a621fd6-ec05-49e0-afee-162d6ad1059a",
   "metadata": {},
   "outputs": [],
   "source": [
    "psy_list = ['people','like','just','https','don','think','study','message','com','questions','know','time','feel','psychology','research','moderators','thank','ve','way','really','amp','does','good','submission','www']"
   ]
  },
  {
   "cell_type": "code",
   "execution_count": 88,
   "id": "83306dec-e461-4cc1-81d8-7f59b53bc4c0",
   "metadata": {},
   "outputs": [],
   "source": [
    "psy_list=pd.DataFrame(psy_list)"
   ]
  },
  {
   "cell_type": "code",
   "execution_count": 89,
   "id": "d73a215f-952c-43dd-a444-052c12838b85",
   "metadata": {},
   "outputs": [],
   "source": [
    "number_psy = [6772,4959,4549,4107,3636,3299,2711,2668,2653,2468,2431,2294,2221,2198,2170,1994,1949,1933,1914,1911,1898,1886,1880,1801,1799]"
   ]
  },
  {
   "cell_type": "code",
   "execution_count": 90,
   "id": "6ca9311b-cdd5-4aec-a948-15da56d157dc",
   "metadata": {},
   "outputs": [],
   "source": [
    "number_psy = pd.DataFrame(number_psy)"
   ]
  },
  {
   "cell_type": "code",
   "execution_count": 91,
   "id": "e75f24da-0594-433e-bb25-2513a901b792",
   "metadata": {},
   "outputs": [],
   "source": [
    "psy_list.insert(loc=1,column='number', value=number_psy)"
   ]
  },
  {
   "cell_type": "markdown",
   "id": "6e744e8e-2d8c-4eec-b5f7-4f347f988ed0",
   "metadata": {},
   "source": [
    "## Here are the top 25 words for r/AskAnthropology and r/psychology"
   ]
  },
  {
   "cell_type": "code",
   "execution_count": 113,
   "id": "83363421-257e-4b3c-966e-9af014c6fdcf",
   "metadata": {},
   "outputs": [
    {
     "data": {
      "text/plain": [
       "[Text(0, 0.5, 'AskAnthropology Words'),\n",
       " Text(0.5, 1.0, 'Top 25 words for AskAnthropology')]"
      ]
     },
     "execution_count": 113,
     "metadata": {},
     "output_type": "execute_result"
    },
    {
     "data": {
      "image/png": "[encoded data removed]",
      "text/plain": [
       "<Figure size 432x288 with 1 Axes>"
      ]
     },
     "metadata": {
      "needs_background": "light"
     },
     "output_type": "display_data"
    }
   ],
   "source": [
    "#Top 25 words anth unique words include: 'culture','years','modern','anthropology'\n",
    "sns.barplot(data=anth_list, x='number', y=0,).set(ylabel='AskAnthropology Words',title='Top 25 words for AskAnthropology')\n",
    "\n"
   ]
  },
  {
   "cell_type": "code",
   "execution_count": 96,
   "id": "7050c5b6-4e6b-4fe6-8041-5f1fbcc99be7",
   "metadata": {},
   "outputs": [
    {
     "data": {
      "image/png": "[encoded data removed]",
      "text/plain": [
       "<Figure size 432x288 with 1 Axes>"
      ]
     },
     "metadata": {
      "needs_background": "light"
     },
     "output_type": "display_data"
    }
   ],
   "source": [
    "#Top 25 r/psychology uniques words include: 'study','message','feel','psychology','research','moderators','submission'\n",
    "sns.barplot(data=psy_list, x='number', y=0).set(ylabel='psychology Words', title='Top 25 words for r/psychology');"
   ]
  },
  {
   "cell_type": "code",
   "execution_count": 14,
   "id": "89dbb50d-582f-4095-86df-7f0f33ec17c5",
   "metadata": {},
   "outputs": [],
   "source": [
    "# merged_df['subreddit'] = merged_df['subreddit'].map({'AskAnthropology': 0, 'psychology': 1})\n",
    "# this step was not necessary to run the models below, so they are commented out"
   ]
  },
  {
   "cell_type": "code",
   "execution_count": 15,
   "id": "895c1acf-3f58-4978-8ec9-e332da3c53b5",
   "metadata": {},
   "outputs": [
    {
     "data": {
      "text/plain": [
       "psychology         25000\n",
       "AskAnthropology    25000\n",
       "Name: subreddit, dtype: int64"
      ]
     },
     "execution_count": 15,
     "metadata": {},
     "output_type": "execute_result"
    }
   ],
   "source": [
    "merged_df['subreddit'].value_counts()"
   ]
  },
  {
   "cell_type": "markdown",
   "id": "4f508bed-9234-43c4-9b2d-77dc8e1a14b0",
   "metadata": {},
   "source": [
    "## MODELING"
   ]
  },
  {
   "cell_type": "markdown",
   "id": "6f7f6628-5ddb-4d02-acac-5694b77efad5",
   "metadata": {},
   "source": [
    "## Base Case"
   ]
  },
  {
   "cell_type": "markdown",
   "id": "b28b62fd-7ad7-45ee-9712-71cd42320fa8",
   "metadata": {},
   "source": [
    "#### Since both subreddits are equally distributed (25_000 comments from each), the <b>base case</b> model would be 50%. Below we will see how much we can imporve from here."
   ]
  },
  {
   "cell_type": "code",
   "execution_count": 10,
   "id": "928131b3-599b-4eef-80d9-2238ffd6a2c4",
   "metadata": {},
   "outputs": [],
   "source": [
    "#split our subreddit data into X and Y.\n",
    "X = merged_df['body']\n",
    "y = merged_df['subreddit']\n",
    "X_train, X_test, y_train, y_test = train_test_split (X, y, random_state=42, stratify=y)"
   ]
  },
  {
   "cell_type": "code",
   "execution_count": 11,
   "id": "fcc466c2-2bbb-4440-a188-0b8e2486d4ee",
   "metadata": {},
   "outputs": [],
   "source": [
    "cv = CountVectorizer(min_df=2)\n",
    "cv.fit(X_train)\n",
    "\n",
    "cv_text = cv.transform(X_train)\n",
    "# remember to use .todense() to de-sparsify the count vectorized text\n",
    "cv_text_df = pd.DataFrame(cv_text.todense(), columns=cv.get_feature_names())"
   ]
  },
  {
   "cell_type": "markdown",
   "id": "5be449af-af14-4ad0-90f3-5a3171b551f6",
   "metadata": {},
   "source": [
    "## Comparing models"
   ]
  },
  {
   "cell_type": "code",
   "execution_count": 18,
   "id": "483aff68-018b-4292-b080-11808900060c",
   "metadata": {},
   "outputs": [
    {
     "name": "stdout",
     "output_type": "stream",
     "text": [
      "CPU times: user 21min 41s, sys: 17.5 s, total: 21min 59s\n",
      "Wall time: 5min 48s\n"
     ]
    },
    {
     "data": {
      "text/plain": [
       "(0.9261866666666667, 0.86456)"
      ]
     },
     "execution_count": 18,
     "metadata": {},
     "output_type": "execute_result"
    }
   ],
   "source": [
    "%%time\n",
    "pipe = Pipeline([\n",
    "    ('cv', CountVectorizer()),\n",
    "    ('lr', LogisticRegressionCV(solver='liblinear', max_iter=500))\n",
    "])\n",
    "\n",
    "pipe.fit(X_train, y_train)\n",
    "pipe.score(X_train, y_train), pipe.score(X_test, y_test)"
   ]
  },
  {
   "cell_type": "code",
   "execution_count": 19,
   "id": "488a0b34-d168-4ff5-81d2-e7a28b174d65",
   "metadata": {},
   "outputs": [
    {
     "name": "stdout",
     "output_type": "stream",
     "text": [
      "CPU times: user 6min 17s, sys: 4.2 s, total: 6min 21s\n",
      "Wall time: 1min 40s\n"
     ]
    },
    {
     "data": {
      "text/plain": [
       "(0.9272, 0.86992)"
      ]
     },
     "execution_count": 19,
     "metadata": {},
     "output_type": "execute_result"
    }
   ],
   "source": [
    "%%time\n",
    "pipe = Pipeline([\n",
    "    ('cv', TfidfVectorizer()),\n",
    "    ('lr', LogisticRegressionCV(solver='liblinear'))\n",
    "])\n",
    "\n",
    "pipe.fit(X_train, y_train)\n",
    "pipe.score(X_train, y_train), pipe.score(X_test, y_test)"
   ]
  },
  {
   "cell_type": "code",
   "execution_count": 20,
   "id": "f2944bef-b315-44f6-afd0-de32694c01dd",
   "metadata": {},
   "outputs": [
    {
     "name": "stdout",
     "output_type": "stream",
     "text": [
      "CPU times: user 4.61 s, sys: 112 ms, total: 4.72 s\n",
      "Wall time: 4.75 s\n"
     ]
    },
    {
     "data": {
      "text/plain": [
       "(0.8711733333333334, 0.8496)"
      ]
     },
     "execution_count": 20,
     "metadata": {},
     "output_type": "execute_result"
    }
   ],
   "source": [
    "%%time\n",
    "pipe = Pipeline([\n",
    "    ('cv', CountVectorizer()),\n",
    "    ('mnb', MultinomialNB())\n",
    "])\n",
    "\n",
    "pipe.fit(X_train, y_train)\n",
    "pipe.score(X_train, y_train), pipe.score(X_test, y_test)"
   ]
  },
  {
   "cell_type": "code",
   "execution_count": 21,
   "id": "9f323d93-ef4f-4a77-8f45-1c4be10d43d2",
   "metadata": {},
   "outputs": [
    {
     "name": "stdout",
     "output_type": "stream",
     "text": [
      "CPU times: user 4.74 s, sys: 115 ms, total: 4.86 s\n",
      "Wall time: 4.88 s\n"
     ]
    },
    {
     "data": {
      "text/plain": [
       "(0.8980533333333334, 0.86112)"
      ]
     },
     "execution_count": 21,
     "metadata": {},
     "output_type": "execute_result"
    }
   ],
   "source": [
    "%%time\n",
    "pipe = Pipeline([\n",
    "    ('tf', TfidfVectorizer()),\n",
    "    ('mnb', MultinomialNB())\n",
    "])\n",
    "\n",
    "pipe.fit(X_train, y_train)\n",
    "pipe.score(X_train, y_train), pipe.score(X_test, y_test)"
   ]
  },
  {
   "cell_type": "markdown",
   "id": "529d7c2e-1c52-48b9-8fb6-d0d80cb19a9b",
   "metadata": {},
   "source": [
    "### Random Forest Model"
   ]
  },
  {
   "cell_type": "code",
   "execution_count": 22,
   "id": "25494f35-023c-4d97-b181-9a01bd98ac3b",
   "metadata": {},
   "outputs": [],
   "source": [
    "X = merged_df['token_body']\n",
    "y = merged_df['subreddit']\n",
    "X_train, X_test, y_train, y_test = train_test_split (X, y, random_state=42, stratify=y)"
   ]
  },
  {
   "cell_type": "code",
   "execution_count": 23,
   "id": "8cc79757-1b86-4324-a3c2-dd7feb4fa749",
   "metadata": {},
   "outputs": [],
   "source": [
    "rf = RandomForestClassifier(n_estimators=100)"
   ]
  },
  {
   "cell_type": "code",
   "execution_count": 24,
   "id": "c5d2c835-1cd5-4c1c-9059-e9838699a1a1",
   "metadata": {},
   "outputs": [],
   "source": [
    "et = ExtraTreesClassifier(n_estimators=100)"
   ]
  },
  {
   "cell_type": "code",
   "execution_count": 25,
   "id": "abc294ca-4754-4f5a-85b0-609f739bcb68",
   "metadata": {},
   "outputs": [
    {
     "data": {
      "text/plain": [
       "0.8092"
      ]
     },
     "execution_count": 25,
     "metadata": {},
     "output_type": "execute_result"
    }
   ],
   "source": [
    "cross_val_score(rf, cv_text, y_train, cv=5).mean()"
   ]
  },
  {
   "cell_type": "code",
   "execution_count": 26,
   "id": "5199332d-39a4-49e8-9c00-2b4584a83d89",
   "metadata": {},
   "outputs": [
    {
     "name": "stdout",
     "output_type": "stream",
     "text": [
      "CPU times: user 10min 2s, sys: 5.22 s, total: 10min 7s\n",
      "Wall time: 10min 13s\n"
     ]
    },
    {
     "data": {
      "text/plain": [
       "0.82552"
      ]
     },
     "execution_count": 26,
     "metadata": {},
     "output_type": "execute_result"
    }
   ],
   "source": [
    "%%time\n",
    "cross_val_score(et, cv_text, y_train, cv=5).mean()"
   ]
  },
  {
   "cell_type": "markdown",
   "id": "743e196c-85e0-4a5f-a7c8-2f95168e49a9",
   "metadata": {},
   "source": [
    "## Conclusion/Recommendation"
   ]
  },
  {
   "cell_type": "markdown",
   "id": "83d1bd7c-16f5-45c1-8809-0d625e03150c",
   "metadata": {},
   "source": [
    "Based on the findings from the data, the reddit posting show a close similarity with psychology and anthropology.  The differences in keywords for psychology included: study, message,feel, psychology, research. Anthropology keywords include: different, human,culture,lot(?),say, and modern. It is recommended to target ads for psychology using emotion words similar to ‘feel’.  Also to use keywords that appeal to an audience looking to do more research and study. For Anthropology, try to highlight ‘different’ cultures, and use language that shows the progression of humans from ancient to modern.\n",
    "\n"
   ]
  },
  {
   "cell_type": "code",
   "execution_count": null,
   "id": "471cf0ec-b882-4f51-b4f3-55175eded6c2",
   "metadata": {},
   "outputs": [],
   "source": []
  }
 ],
 "metadata": {
  "kernelspec": {
   "display_name": "Python 3",
   "language": "python",
   "name": "python3"
  },
  "language_info": {
   "codemirror_mode": {
    "name": "ipython",
    "version": 3
   },
   "file_extension": ".py",
   "mimetype": "text/x-python",
   "name": "python",
   "nbconvert_exporter": "python",
   "pygments_lexer": "ipython3",
   "version": "3.8.8"
  }
 },
 "nbformat": 4,
 "nbformat_minor": 5
}
