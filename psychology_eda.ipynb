{
 "cells": [
  {
   "cell_type": "code",
   "execution_count": 1,
   "id": "c0b3f7e6-e5a3-4e65-97cc-9aaa5a13d23a",
   "metadata": {},
   "outputs": [],
   "source": [
    "import pandas as pd\n",
    "import numpy as np\n"
   ]
  },
  {
   "cell_type": "markdown",
   "id": "dac38139-9137-494e-bc1b-3eafcffe3613",
   "metadata": {},
   "source": [
    "## EDA of psychology posts"
   ]
  },
  {
   "cell_type": "code",
   "execution_count": 2,
   "id": "de70b138-ff6f-4a28-8558-1bb03be90a13",
   "metadata": {},
   "outputs": [],
   "source": [
    "df = pd.read_csv('./data/psychology.csv')"
   ]
  },
  {
   "cell_type": "code",
   "execution_count": 3,
   "id": "b7527c37-010b-4d81-aeab-bd79d9bcd4fe",
   "metadata": {},
   "outputs": [
    {
     "data": {
      "text/html": [
       "<div>\n",
       "<style scoped>\n",
       "    .dataframe tbody tr th:only-of-type {\n",
       "        vertical-align: middle;\n",
       "    }\n",
       "\n",
       "    .dataframe tbody tr th {\n",
       "        vertical-align: top;\n",
       "    }\n",
       "\n",
       "    .dataframe thead th {\n",
       "        text-align: right;\n",
       "    }\n",
       "</style>\n",
       "<table border=\"1\" class=\"dataframe\">\n",
       "  <thead>\n",
       "    <tr style=\"text-align: right;\">\n",
       "      <th></th>\n",
       "      <th>Unnamed: 0</th>\n",
       "      <th>body</th>\n",
       "      <th>subreddit</th>\n",
       "      <th>author</th>\n",
       "      <th>created_utc</th>\n",
       "    </tr>\n",
       "  </thead>\n",
       "  <tbody>\n",
       "    <tr>\n",
       "      <th>0</th>\n",
       "      <td>0.0</td>\n",
       "      <td>What is it called when people post or try to r...</td>\n",
       "      <td>psychology</td>\n",
       "      <td>meltingblankets</td>\n",
       "      <td>1634599582</td>\n",
       "    </tr>\n",
       "    <tr>\n",
       "      <th>1</th>\n",
       "      <td>1.0</td>\n",
       "      <td>What's ironic is that you say that, when clear...</td>\n",
       "      <td>psychology</td>\n",
       "      <td>mimile889</td>\n",
       "      <td>1634598867</td>\n",
       "    </tr>\n",
       "    <tr>\n",
       "      <th>2</th>\n",
       "      <td>2.0</td>\n",
       "      <td>This talks about some of the research:\\n\\nhttp...</td>\n",
       "      <td>psychology</td>\n",
       "      <td>gurgle528</td>\n",
       "      <td>1634597346</td>\n",
       "    </tr>\n",
       "    <tr>\n",
       "      <th>3</th>\n",
       "      <td>3.0</td>\n",
       "      <td>Really? Great. Can you point me at the evidenc...</td>\n",
       "      <td>psychology</td>\n",
       "      <td>chriski1971</td>\n",
       "      <td>1634596276</td>\n",
       "    </tr>\n",
       "    <tr>\n",
       "      <th>4</th>\n",
       "      <td>4.0</td>\n",
       "      <td>This is a very ironic statement, considering t...</td>\n",
       "      <td>psychology</td>\n",
       "      <td>taylrbrwr</td>\n",
       "      <td>1634594999</td>\n",
       "    </tr>\n",
       "  </tbody>\n",
       "</table>\n",
       "</div>"
      ],
      "text/plain": [
       "   Unnamed: 0                                               body   subreddit  \\\n",
       "0         0.0  What is it called when people post or try to r...  psychology   \n",
       "1         1.0  What's ironic is that you say that, when clear...  psychology   \n",
       "2         2.0  This talks about some of the research:\\n\\nhttp...  psychology   \n",
       "3         3.0  Really? Great. Can you point me at the evidenc...  psychology   \n",
       "4         4.0  This is a very ironic statement, considering t...  psychology   \n",
       "\n",
       "            author  created_utc  \n",
       "0  meltingblankets   1634599582  \n",
       "1        mimile889   1634598867  \n",
       "2        gurgle528   1634597346  \n",
       "3      chriski1971   1634596276  \n",
       "4        taylrbrwr   1634594999  "
      ]
     },
     "execution_count": 3,
     "metadata": {},
     "output_type": "execute_result"
    }
   ],
   "source": [
    "df.head()"
   ]
  },
  {
   "cell_type": "markdown",
   "id": "1f5ff6fc-4e30-4a3d-ac80-8541b71b7ec6",
   "metadata": {},
   "source": [
    "#### Dropped Unnamed column from the dataset, and removed the '[removed]' and '[deleted]' rows from the body column"
   ]
  },
  {
   "cell_type": "code",
   "execution_count": 4,
   "id": "6f9b0afd-2633-4228-ba29-df510b588190",
   "metadata": {},
   "outputs": [],
   "source": [
    "df.drop(columns=['Unnamed: 0'], inplace=True)"
   ]
  },
  {
   "cell_type": "code",
   "execution_count": 5,
   "id": "d1ec927d-08ba-40dc-9812-cab7d84a61f6",
   "metadata": {},
   "outputs": [],
   "source": [
    "filt = df['body'] == '[removed]'\n",
    "df.drop(index=df[filt].index, inplace=True)"
   ]
  },
  {
   "cell_type": "code",
   "execution_count": 6,
   "id": "35a9d0e0-b718-407e-9535-763cdccbefe9",
   "metadata": {},
   "outputs": [],
   "source": [
    "filt2 = df['body'] == '[deleted]'\n",
    "df.drop(index=df[filt2].index, inplace=True)"
   ]
  },
  {
   "cell_type": "code",
   "execution_count": 7,
   "id": "b1c4b964-69af-492d-8ea8-79765fa577a6",
   "metadata": {},
   "outputs": [
    {
     "data": {
      "text/plain": [
       "(45602, 4)"
      ]
     },
     "execution_count": 7,
     "metadata": {},
     "output_type": "execute_result"
    }
   ],
   "source": [
    "df.shape"
   ]
  },
  {
   "cell_type": "markdown",
   "id": "731af026-20f6-449a-8226-07252d4c4031",
   "metadata": {},
   "source": [
    "### After, I added a body length and a body word count column"
   ]
  },
  {
   "cell_type": "code",
   "execution_count": 8,
   "id": "fd47510c-36b5-4a2a-b8be-381a8d372733",
   "metadata": {},
   "outputs": [],
   "source": [
    "df['body_length'] = df['body'].str.len()"
   ]
  },
  {
   "cell_type": "code",
   "execution_count": 9,
   "id": "6cbbc0a5-b498-4f5f-8bf9-2b77be3916e5",
   "metadata": {},
   "outputs": [],
   "source": [
    "df['body_word_count'] = df['body'].str.count(' ') + 1"
   ]
  },
  {
   "cell_type": "code",
   "execution_count": 10,
   "id": "08f42855-406b-4d77-ae58-7d0d70e3f588",
   "metadata": {},
   "outputs": [
    {
     "data": {
      "text/html": [
       "<div>\n",
       "<style scoped>\n",
       "    .dataframe tbody tr th:only-of-type {\n",
       "        vertical-align: middle;\n",
       "    }\n",
       "\n",
       "    .dataframe tbody tr th {\n",
       "        vertical-align: top;\n",
       "    }\n",
       "\n",
       "    .dataframe thead th {\n",
       "        text-align: right;\n",
       "    }\n",
       "</style>\n",
       "<table border=\"1\" class=\"dataframe\">\n",
       "  <thead>\n",
       "    <tr style=\"text-align: right;\">\n",
       "      <th></th>\n",
       "      <th>body</th>\n",
       "      <th>subreddit</th>\n",
       "      <th>author</th>\n",
       "      <th>created_utc</th>\n",
       "      <th>body_length</th>\n",
       "      <th>body_word_count</th>\n",
       "    </tr>\n",
       "  </thead>\n",
       "  <tbody>\n",
       "    <tr>\n",
       "      <th>0</th>\n",
       "      <td>What is it called when people post or try to r...</td>\n",
       "      <td>psychology</td>\n",
       "      <td>meltingblankets</td>\n",
       "      <td>1634599582</td>\n",
       "      <td>282</td>\n",
       "      <td>51</td>\n",
       "    </tr>\n",
       "    <tr>\n",
       "      <th>1</th>\n",
       "      <td>What's ironic is that you say that, when clear...</td>\n",
       "      <td>psychology</td>\n",
       "      <td>mimile889</td>\n",
       "      <td>1634598867</td>\n",
       "      <td>200</td>\n",
       "      <td>35</td>\n",
       "    </tr>\n",
       "    <tr>\n",
       "      <th>2</th>\n",
       "      <td>This talks about some of the research:\\n\\nhttp...</td>\n",
       "      <td>psychology</td>\n",
       "      <td>gurgle528</td>\n",
       "      <td>1634597346</td>\n",
       "      <td>117</td>\n",
       "      <td>7</td>\n",
       "    </tr>\n",
       "    <tr>\n",
       "      <th>3</th>\n",
       "      <td>Really? Great. Can you point me at the evidenc...</td>\n",
       "      <td>psychology</td>\n",
       "      <td>chriski1971</td>\n",
       "      <td>1634596276</td>\n",
       "      <td>55</td>\n",
       "      <td>10</td>\n",
       "    </tr>\n",
       "    <tr>\n",
       "      <th>4</th>\n",
       "      <td>This is a very ironic statement, considering t...</td>\n",
       "      <td>psychology</td>\n",
       "      <td>taylrbrwr</td>\n",
       "      <td>1634594999</td>\n",
       "      <td>264</td>\n",
       "      <td>41</td>\n",
       "    </tr>\n",
       "  </tbody>\n",
       "</table>\n",
       "</div>"
      ],
      "text/plain": [
       "                                                body   subreddit  \\\n",
       "0  What is it called when people post or try to r...  psychology   \n",
       "1  What's ironic is that you say that, when clear...  psychology   \n",
       "2  This talks about some of the research:\\n\\nhttp...  psychology   \n",
       "3  Really? Great. Can you point me at the evidenc...  psychology   \n",
       "4  This is a very ironic statement, considering t...  psychology   \n",
       "\n",
       "            author  created_utc  body_length  body_word_count  \n",
       "0  meltingblankets   1634599582          282               51  \n",
       "1        mimile889   1634598867          200               35  \n",
       "2        gurgle528   1634597346          117                7  \n",
       "3      chriski1971   1634596276           55               10  \n",
       "4        taylrbrwr   1634594999          264               41  "
      ]
     },
     "execution_count": 10,
     "metadata": {},
     "output_type": "execute_result"
    }
   ],
   "source": [
    "df.head()"
   ]
  },
  {
   "cell_type": "markdown",
   "id": "6d8daedb-9352-40dc-b5fe-d3c9b30f54e2",
   "metadata": {},
   "source": [
    "### The average amount of words in the body column is 50, and average character length in the body was 306.  The average words and character length are less than that of the anthropology subreddits."
   ]
  },
  {
   "cell_type": "code",
   "execution_count": 11,
   "id": "a36ff946-a408-4c55-a8e7-23ddf7447e14",
   "metadata": {},
   "outputs": [
    {
     "data": {
      "text/plain": [
       "50"
      ]
     },
     "execution_count": 11,
     "metadata": {},
     "output_type": "execute_result"
    }
   ],
   "source": [
    "round(df['body_word_count'].mean())"
   ]
  },
  {
   "cell_type": "code",
   "execution_count": 12,
   "id": "afe67489-546a-4d5f-8013-b2d83a7ab470",
   "metadata": {},
   "outputs": [
    {
     "data": {
      "text/plain": [
       "306"
      ]
     },
     "execution_count": 12,
     "metadata": {},
     "output_type": "execute_result"
    }
   ],
   "source": [
    "round(df['body_length'].mean())"
   ]
  },
  {
   "cell_type": "markdown",
   "id": "fdf6e338-451b-44d1-8e0a-e01c8d3471b4",
   "metadata": {},
   "source": [
    "### Trimming the total posts down to 25_000"
   ]
  },
  {
   "cell_type": "code",
   "execution_count": 13,
   "id": "cbcbb587-d924-4e35-b534-b8e653873891",
   "metadata": {},
   "outputs": [],
   "source": [
    "#Trimming comments to start the modeling phase\n",
    "psychology = df[0:25_000]"
   ]
  },
  {
   "cell_type": "code",
   "execution_count": 14,
   "id": "ca848a95-eb47-4316-a818-c9a380676d22",
   "metadata": {},
   "outputs": [
    {
     "data": {
      "text/html": [
       "<div>\n",
       "<style scoped>\n",
       "    .dataframe tbody tr th:only-of-type {\n",
       "        vertical-align: middle;\n",
       "    }\n",
       "\n",
       "    .dataframe tbody tr th {\n",
       "        vertical-align: top;\n",
       "    }\n",
       "\n",
       "    .dataframe thead th {\n",
       "        text-align: right;\n",
       "    }\n",
       "</style>\n",
       "<table border=\"1\" class=\"dataframe\">\n",
       "  <thead>\n",
       "    <tr style=\"text-align: right;\">\n",
       "      <th></th>\n",
       "      <th>body</th>\n",
       "      <th>subreddit</th>\n",
       "      <th>author</th>\n",
       "      <th>created_utc</th>\n",
       "      <th>body_length</th>\n",
       "      <th>body_word_count</th>\n",
       "    </tr>\n",
       "  </thead>\n",
       "  <tbody>\n",
       "    <tr>\n",
       "      <th>0</th>\n",
       "      <td>What is it called when people post or try to r...</td>\n",
       "      <td>psychology</td>\n",
       "      <td>meltingblankets</td>\n",
       "      <td>1634599582</td>\n",
       "      <td>282</td>\n",
       "      <td>51</td>\n",
       "    </tr>\n",
       "    <tr>\n",
       "      <th>1</th>\n",
       "      <td>What's ironic is that you say that, when clear...</td>\n",
       "      <td>psychology</td>\n",
       "      <td>mimile889</td>\n",
       "      <td>1634598867</td>\n",
       "      <td>200</td>\n",
       "      <td>35</td>\n",
       "    </tr>\n",
       "    <tr>\n",
       "      <th>2</th>\n",
       "      <td>This talks about some of the research:\\n\\nhttp...</td>\n",
       "      <td>psychology</td>\n",
       "      <td>gurgle528</td>\n",
       "      <td>1634597346</td>\n",
       "      <td>117</td>\n",
       "      <td>7</td>\n",
       "    </tr>\n",
       "    <tr>\n",
       "      <th>3</th>\n",
       "      <td>Really? Great. Can you point me at the evidenc...</td>\n",
       "      <td>psychology</td>\n",
       "      <td>chriski1971</td>\n",
       "      <td>1634596276</td>\n",
       "      <td>55</td>\n",
       "      <td>10</td>\n",
       "    </tr>\n",
       "    <tr>\n",
       "      <th>4</th>\n",
       "      <td>This is a very ironic statement, considering t...</td>\n",
       "      <td>psychology</td>\n",
       "      <td>taylrbrwr</td>\n",
       "      <td>1634594999</td>\n",
       "      <td>264</td>\n",
       "      <td>41</td>\n",
       "    </tr>\n",
       "    <tr>\n",
       "      <th>...</th>\n",
       "      <td>...</td>\n",
       "      <td>...</td>\n",
       "      <td>...</td>\n",
       "      <td>...</td>\n",
       "      <td>...</td>\n",
       "      <td>...</td>\n",
       "    </tr>\n",
       "    <tr>\n",
       "      <th>27836</th>\n",
       "      <td>Any recommendation to sources (books, podcasts...</td>\n",
       "      <td>psychology</td>\n",
       "      <td>norgetroll1</td>\n",
       "      <td>1614737122</td>\n",
       "      <td>143</td>\n",
       "      <td>20</td>\n",
       "    </tr>\n",
       "    <tr>\n",
       "      <th>27837</th>\n",
       "      <td>What they mean by it is it's dangerous because...</td>\n",
       "      <td>psychology</td>\n",
       "      <td>Vlasic69</td>\n",
       "      <td>1614736988</td>\n",
       "      <td>153</td>\n",
       "      <td>30</td>\n",
       "    </tr>\n",
       "    <tr>\n",
       "      <th>27838</th>\n",
       "      <td>I feel the same way about Pride in Toronto. It...</td>\n",
       "      <td>psychology</td>\n",
       "      <td>SavageGoatToucher</td>\n",
       "      <td>1614736382</td>\n",
       "      <td>124</td>\n",
       "      <td>23</td>\n",
       "    </tr>\n",
       "    <tr>\n",
       "      <th>27839</th>\n",
       "      <td>Is there a term for when, in an argument, a pa...</td>\n",
       "      <td>psychology</td>\n",
       "      <td>xilayo</td>\n",
       "      <td>1614736059</td>\n",
       "      <td>465</td>\n",
       "      <td>87</td>\n",
       "    </tr>\n",
       "    <tr>\n",
       "      <th>27840</th>\n",
       "      <td>A word itself is empty. It forms meanings when...</td>\n",
       "      <td>psychology</td>\n",
       "      <td>norgetroll1</td>\n",
       "      <td>1614735462</td>\n",
       "      <td>243</td>\n",
       "      <td>39</td>\n",
       "    </tr>\n",
       "  </tbody>\n",
       "</table>\n",
       "<p>25000 rows × 6 columns</p>\n",
       "</div>"
      ],
      "text/plain": [
       "                                                    body   subreddit  \\\n",
       "0      What is it called when people post or try to r...  psychology   \n",
       "1      What's ironic is that you say that, when clear...  psychology   \n",
       "2      This talks about some of the research:\\n\\nhttp...  psychology   \n",
       "3      Really? Great. Can you point me at the evidenc...  psychology   \n",
       "4      This is a very ironic statement, considering t...  psychology   \n",
       "...                                                  ...         ...   \n",
       "27836  Any recommendation to sources (books, podcasts...  psychology   \n",
       "27837  What they mean by it is it's dangerous because...  psychology   \n",
       "27838  I feel the same way about Pride in Toronto. It...  psychology   \n",
       "27839  Is there a term for when, in an argument, a pa...  psychology   \n",
       "27840  A word itself is empty. It forms meanings when...  psychology   \n",
       "\n",
       "                  author  created_utc  body_length  body_word_count  \n",
       "0        meltingblankets   1634599582          282               51  \n",
       "1              mimile889   1634598867          200               35  \n",
       "2              gurgle528   1634597346          117                7  \n",
       "3            chriski1971   1634596276           55               10  \n",
       "4              taylrbrwr   1634594999          264               41  \n",
       "...                  ...          ...          ...              ...  \n",
       "27836        norgetroll1   1614737122          143               20  \n",
       "27837           Vlasic69   1614736988          153               30  \n",
       "27838  SavageGoatToucher   1614736382          124               23  \n",
       "27839             xilayo   1614736059          465               87  \n",
       "27840        norgetroll1   1614735462          243               39  \n",
       "\n",
       "[25000 rows x 6 columns]"
      ]
     },
     "execution_count": 14,
     "metadata": {},
     "output_type": "execute_result"
    }
   ],
   "source": [
    "psychology"
   ]
  },
  {
   "cell_type": "code",
   "execution_count": 15,
   "id": "1eef0d49-2ab0-4a08-8840-0214c695343c",
   "metadata": {},
   "outputs": [],
   "source": [
    "psychology.to_csv('./data/psychology_cleaned.csv')"
   ]
  },
  {
   "cell_type": "code",
   "execution_count": null,
   "id": "c21efa5a-939f-43bc-8bb1-f96ed5c09272",
   "metadata": {},
   "outputs": [],
   "source": []
  }
 ],
 "metadata": {
  "kernelspec": {
   "display_name": "Python 3",
   "language": "python",
   "name": "python3"
  },
  "language_info": {
   "codemirror_mode": {
    "name": "ipython",
    "version": 3
   },
   "file_extension": ".py",
   "mimetype": "text/x-python",
   "name": "python",
   "nbconvert_exporter": "python",
   "pygments_lexer": "ipython3",
   "version": "3.8.8"
  }
 },
 "nbformat": 4,
 "nbformat_minor": 5
}
