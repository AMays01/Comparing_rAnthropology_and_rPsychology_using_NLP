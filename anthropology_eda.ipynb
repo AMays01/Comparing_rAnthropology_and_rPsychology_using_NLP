{
 "cells": [
  {
   "cell_type": "code",
   "execution_count": 19,
   "id": "f694a703-c1ea-4757-a21d-00d595923a3a",
   "metadata": {},
   "outputs": [],
   "source": [
    "import pandas as pd\n",
    "import numpy as np\n",
    "\n"
   ]
  },
  {
   "cell_type": "code",
   "execution_count": 2,
   "id": "b156095c-e529-42d6-b43b-653d9bf8837c",
   "metadata": {},
   "outputs": [],
   "source": [
    "df = pd.read_csv(\"./AskAnthropology.csv\")"
   ]
  },
  {
   "cell_type": "markdown",
   "id": "cc8aa612-5994-47cf-9f0c-097fe7325110",
   "metadata": {},
   "source": [
    "## EDA of AskAnthropology DF"
   ]
  },
  {
   "cell_type": "code",
   "execution_count": 3,
   "id": "74f71e38-f646-4747-b08e-37a4cd5ea962",
   "metadata": {},
   "outputs": [
    {
     "data": {
      "text/html": [
       "<div>\n",
       "<style scoped>\n",
       "    .dataframe tbody tr th:only-of-type {\n",
       "        vertical-align: middle;\n",
       "    }\n",
       "\n",
       "    .dataframe tbody tr th {\n",
       "        vertical-align: top;\n",
       "    }\n",
       "\n",
       "    .dataframe thead th {\n",
       "        text-align: right;\n",
       "    }\n",
       "</style>\n",
       "<table border=\"1\" class=\"dataframe\">\n",
       "  <thead>\n",
       "    <tr style=\"text-align: right;\">\n",
       "      <th></th>\n",
       "      <th>Unnamed: 0</th>\n",
       "      <th>body</th>\n",
       "      <th>subreddit</th>\n",
       "      <th>author</th>\n",
       "      <th>created_utc</th>\n",
       "    </tr>\n",
       "  </thead>\n",
       "  <tbody>\n",
       "    <tr>\n",
       "      <th>0</th>\n",
       "      <td>0.0</td>\n",
       "      <td>[removed]</td>\n",
       "      <td>AskAnthropology</td>\n",
       "      <td>[deleted]</td>\n",
       "      <td>1634601908</td>\n",
       "    </tr>\n",
       "    <tr>\n",
       "      <th>1</th>\n",
       "      <td>1.0</td>\n",
       "      <td>[removed]</td>\n",
       "      <td>AskAnthropology</td>\n",
       "      <td>[deleted]</td>\n",
       "      <td>1634598171</td>\n",
       "    </tr>\n",
       "    <tr>\n",
       "      <th>2</th>\n",
       "      <td>2.0</td>\n",
       "      <td>[deleted]</td>\n",
       "      <td>AskAnthropology</td>\n",
       "      <td>[deleted]</td>\n",
       "      <td>1634588639</td>\n",
       "    </tr>\n",
       "    <tr>\n",
       "      <th>3</th>\n",
       "      <td>3.0</td>\n",
       "      <td>This all seems really helpful, thank you so much!</td>\n",
       "      <td>AskAnthropology</td>\n",
       "      <td>2npii</td>\n",
       "      <td>1634586224</td>\n",
       "    </tr>\n",
       "    <tr>\n",
       "      <th>4</th>\n",
       "      <td>4.0</td>\n",
       "      <td>Adrienne Meyer has done quite a bit of researc...</td>\n",
       "      <td>AskAnthropology</td>\n",
       "      <td>umbrabates</td>\n",
       "      <td>1634580081</td>\n",
       "    </tr>\n",
       "  </tbody>\n",
       "</table>\n",
       "</div>"
      ],
      "text/plain": [
       "   Unnamed: 0                                               body  \\\n",
       "0         0.0                                          [removed]   \n",
       "1         1.0                                          [removed]   \n",
       "2         2.0                                          [deleted]   \n",
       "3         3.0  This all seems really helpful, thank you so much!   \n",
       "4         4.0  Adrienne Meyer has done quite a bit of researc...   \n",
       "\n",
       "         subreddit      author  created_utc  \n",
       "0  AskAnthropology   [deleted]   1634601908  \n",
       "1  AskAnthropology   [deleted]   1634598171  \n",
       "2  AskAnthropology   [deleted]   1634588639  \n",
       "3  AskAnthropology       2npii   1634586224  \n",
       "4  AskAnthropology  umbrabates   1634580081  "
      ]
     },
     "execution_count": 3,
     "metadata": {},
     "output_type": "execute_result"
    }
   ],
   "source": [
    "\n",
    "df.head()"
   ]
  },
  {
   "cell_type": "code",
   "execution_count": 4,
   "id": "f93845cc-49b0-4548-a3e0-420b44794470",
   "metadata": {},
   "outputs": [
    {
     "data": {
      "text/plain": [
       "(60082, 5)"
      ]
     },
     "execution_count": 4,
     "metadata": {},
     "output_type": "execute_result"
    }
   ],
   "source": [
    "df.shape"
   ]
  },
  {
   "cell_type": "code",
   "execution_count": 5,
   "id": "d9be5802-a6ee-4cb3-8186-d5c165f25424",
   "metadata": {},
   "outputs": [],
   "source": [
    "#The df has an Unnamed column that needs to be removed\n",
    "df.drop(columns=['Unnamed: 0'], inplace=True)"
   ]
  },
  {
   "cell_type": "code",
   "execution_count": 7,
   "id": "d24de531-b2bd-4744-afbb-63cb3e2e1fe2",
   "metadata": {},
   "outputs": [
    {
     "data": {
      "text/plain": [
       "(60082, 4)"
      ]
     },
     "execution_count": 7,
     "metadata": {},
     "output_type": "execute_result"
    }
   ],
   "source": [
    "df.shape"
   ]
  },
  {
   "cell_type": "markdown",
   "id": "ee9b210b-884e-4554-891a-4d1e7ea57696",
   "metadata": {},
   "source": [
    "## Deleted Rows"
   ]
  },
  {
   "cell_type": "markdown",
   "id": "8d5dfd46-8757-41da-aeec-b380a418cf38",
   "metadata": {},
   "source": [
    "### Cleaned up 2 columns by removing '[body]' and '[removed]' from the body comments"
   ]
  },
  {
   "cell_type": "code",
   "execution_count": 8,
   "id": "bb3ce287-d867-4be3-930b-871c10042bc2",
   "metadata": {},
   "outputs": [],
   "source": [
    "#removed '[removed]' posts from body column\n",
    "filt = df['body'] == '[removed]'\n",
    "df.drop(index=df[filt].index, inplace=True)"
   ]
  },
  {
   "cell_type": "code",
   "execution_count": 9,
   "id": "1cd86769-24c0-4eb7-8261-4dce9a63bad4",
   "metadata": {},
   "outputs": [],
   "source": [
    "filt2 = df['body'] == '[deleted]'\n",
    "df.drop(index=df[filt2].index, inplace=True)"
   ]
  },
  {
   "cell_type": "code",
   "execution_count": 10,
   "id": "3c8cf1ce-c242-41b2-a8f2-dfd7fcd23835",
   "metadata": {},
   "outputs": [
    {
     "data": {
      "text/plain": [
       "(48927, 4)"
      ]
     },
     "execution_count": 10,
     "metadata": {},
     "output_type": "execute_result"
    }
   ],
   "source": [
    "df.shape"
   ]
  },
  {
   "cell_type": "markdown",
   "id": "035293b7-0214-4bd7-a139-55a14c97b53a",
   "metadata": {},
   "source": [
    "### After, I added a body length and a body word count column"
   ]
  },
  {
   "cell_type": "code",
   "execution_count": 11,
   "id": "a3a30feb-16c7-46a8-99b7-d128a36ba0e5",
   "metadata": {},
   "outputs": [],
   "source": [
    "df['body_length'] = df['body'].str.len()"
   ]
  },
  {
   "cell_type": "code",
   "execution_count": 12,
   "id": "4b7caec1-12ef-42e5-8149-a827ed2e6025",
   "metadata": {},
   "outputs": [],
   "source": [
    "df['body_word_count'] = df['body'].str.count(' ') + 1"
   ]
  },
  {
   "cell_type": "markdown",
   "id": "8fde27f5-0e0e-43a6-81f1-7ca5ac9789d6",
   "metadata": {},
   "source": [
    "#### The average amount of words in the body column is 81, and average character length in the body was 504"
   ]
  },
  {
   "cell_type": "code",
   "execution_count": 13,
   "id": "32d40c9d-0a09-488c-aa0a-b9912d5606b7",
   "metadata": {},
   "outputs": [
    {
     "data": {
      "text/plain": [
       "81"
      ]
     },
     "execution_count": 13,
     "metadata": {},
     "output_type": "execute_result"
    }
   ],
   "source": [
    "round(df['body_word_count'].mean())"
   ]
  },
  {
   "cell_type": "code",
   "execution_count": 14,
   "id": "39edff16-d79c-496a-9153-754f8c5e5f18",
   "metadata": {},
   "outputs": [
    {
     "data": {
      "text/plain": [
       "504"
      ]
     },
     "execution_count": 14,
     "metadata": {},
     "output_type": "execute_result"
    }
   ],
   "source": [
    "round(df['body_length'].mean())"
   ]
  },
  {
   "cell_type": "markdown",
   "id": "bc490583-a059-405f-9082-75d8c75c5f9a",
   "metadata": {},
   "source": [
    "## Trimming the total posts down to 25_000"
   ]
  },
  {
   "cell_type": "code",
   "execution_count": 17,
   "id": "21db097e-3acd-402f-9270-f011d0fa26b5",
   "metadata": {},
   "outputs": [],
   "source": [
    "#Trimming comments to start the modeling phase\n",
    "anthropology = df[0:25_000]"
   ]
  },
  {
   "cell_type": "code",
   "execution_count": 18,
   "id": "10f030b3-513d-4893-9169-e2b4ebecb456",
   "metadata": {},
   "outputs": [
    {
     "data": {
      "text/html": [
       "<div>\n",
       "<style scoped>\n",
       "    .dataframe tbody tr th:only-of-type {\n",
       "        vertical-align: middle;\n",
       "    }\n",
       "\n",
       "    .dataframe tbody tr th {\n",
       "        vertical-align: top;\n",
       "    }\n",
       "\n",
       "    .dataframe thead th {\n",
       "        text-align: right;\n",
       "    }\n",
       "</style>\n",
       "<table border=\"1\" class=\"dataframe\">\n",
       "  <thead>\n",
       "    <tr style=\"text-align: right;\">\n",
       "      <th></th>\n",
       "      <th>body</th>\n",
       "      <th>subreddit</th>\n",
       "      <th>author</th>\n",
       "      <th>created_utc</th>\n",
       "      <th>body_length</th>\n",
       "      <th>body_word_count</th>\n",
       "    </tr>\n",
       "  </thead>\n",
       "  <tbody>\n",
       "    <tr>\n",
       "      <th>3</th>\n",
       "      <td>This all seems really helpful, thank you so much!</td>\n",
       "      <td>AskAnthropology</td>\n",
       "      <td>2npii</td>\n",
       "      <td>1634586224</td>\n",
       "      <td>49</td>\n",
       "      <td>9</td>\n",
       "    </tr>\n",
       "    <tr>\n",
       "      <th>4</th>\n",
       "      <td>Adrienne Meyer has done quite a bit of researc...</td>\n",
       "      <td>AskAnthropology</td>\n",
       "      <td>umbrabates</td>\n",
       "      <td>1634580081</td>\n",
       "      <td>1283</td>\n",
       "      <td>199</td>\n",
       "    </tr>\n",
       "    <tr>\n",
       "      <th>5</th>\n",
       "      <td>&amp;gt;Grave Matters: A Lively History of Death A...</td>\n",
       "      <td>AskAnthropology</td>\n",
       "      <td>Cryptayy</td>\n",
       "      <td>1634576037</td>\n",
       "      <td>201</td>\n",
       "      <td>33</td>\n",
       "    </tr>\n",
       "    <tr>\n",
       "      <th>6</th>\n",
       "      <td>&amp;gt; I was also thinking about the books from ...</td>\n",
       "      <td>AskAnthropology</td>\n",
       "      <td>twiggez-vous</td>\n",
       "      <td>1634575441</td>\n",
       "      <td>272</td>\n",
       "      <td>47</td>\n",
       "    </tr>\n",
       "    <tr>\n",
       "      <th>8</th>\n",
       "      <td>In England, there were specific laws about thi...</td>\n",
       "      <td>AskAnthropology</td>\n",
       "      <td>dokh</td>\n",
       "      <td>1634573321</td>\n",
       "      <td>706</td>\n",
       "      <td>121</td>\n",
       "    </tr>\n",
       "    <tr>\n",
       "      <th>...</th>\n",
       "      <td>...</td>\n",
       "      <td>...</td>\n",
       "      <td>...</td>\n",
       "      <td>...</td>\n",
       "      <td>...</td>\n",
       "      <td>...</td>\n",
       "    </tr>\n",
       "    <tr>\n",
       "      <th>34755</th>\n",
       "      <td>It’s not colonialist, it’s not even uncommon. ...</td>\n",
       "      <td>AskAnthropology</td>\n",
       "      <td>splooge-defender</td>\n",
       "      <td>1590168951</td>\n",
       "      <td>669</td>\n",
       "      <td>112</td>\n",
       "    </tr>\n",
       "    <tr>\n",
       "      <th>34757</th>\n",
       "      <td>huh? they also were not IE</td>\n",
       "      <td>AskAnthropology</td>\n",
       "      <td>AnakinKardashian</td>\n",
       "      <td>1590168471</td>\n",
       "      <td>26</td>\n",
       "      <td>6</td>\n",
       "    </tr>\n",
       "    <tr>\n",
       "      <th>34758</th>\n",
       "      <td>Basques then</td>\n",
       "      <td>AskAnthropology</td>\n",
       "      <td>wes_bestern</td>\n",
       "      <td>1590167870</td>\n",
       "      <td>12</td>\n",
       "      <td>2</td>\n",
       "    </tr>\n",
       "    <tr>\n",
       "      <th>34759</th>\n",
       "      <td>What \"very vital evidence\" has he produced?\\n\\...</td>\n",
       "      <td>AskAnthropology</td>\n",
       "      <td>PreviousDrawer</td>\n",
       "      <td>1590166854</td>\n",
       "      <td>225</td>\n",
       "      <td>36</td>\n",
       "    </tr>\n",
       "    <tr>\n",
       "      <th>34760</th>\n",
       "      <td>ha I didn’t even realize i was responding to a...</td>\n",
       "      <td>AskAnthropology</td>\n",
       "      <td>GlosamaBinBallin</td>\n",
       "      <td>1590166749</td>\n",
       "      <td>111</td>\n",
       "      <td>23</td>\n",
       "    </tr>\n",
       "  </tbody>\n",
       "</table>\n",
       "<p>25000 rows × 6 columns</p>\n",
       "</div>"
      ],
      "text/plain": [
       "                                                    body        subreddit  \\\n",
       "3      This all seems really helpful, thank you so much!  AskAnthropology   \n",
       "4      Adrienne Meyer has done quite a bit of researc...  AskAnthropology   \n",
       "5      &gt;Grave Matters: A Lively History of Death A...  AskAnthropology   \n",
       "6      &gt; I was also thinking about the books from ...  AskAnthropology   \n",
       "8      In England, there were specific laws about thi...  AskAnthropology   \n",
       "...                                                  ...              ...   \n",
       "34755  It’s not colonialist, it’s not even uncommon. ...  AskAnthropology   \n",
       "34757                         huh? they also were not IE  AskAnthropology   \n",
       "34758                                       Basques then  AskAnthropology   \n",
       "34759  What \"very vital evidence\" has he produced?\\n\\...  AskAnthropology   \n",
       "34760  ha I didn’t even realize i was responding to a...  AskAnthropology   \n",
       "\n",
       "                 author  created_utc  body_length  body_word_count  \n",
       "3                 2npii   1634586224           49                9  \n",
       "4            umbrabates   1634580081         1283              199  \n",
       "5              Cryptayy   1634576037          201               33  \n",
       "6          twiggez-vous   1634575441          272               47  \n",
       "8                  dokh   1634573321          706              121  \n",
       "...                 ...          ...          ...              ...  \n",
       "34755  splooge-defender   1590168951          669              112  \n",
       "34757  AnakinKardashian   1590168471           26                6  \n",
       "34758       wes_bestern   1590167870           12                2  \n",
       "34759    PreviousDrawer   1590166854          225               36  \n",
       "34760  GlosamaBinBallin   1590166749          111               23  \n",
       "\n",
       "[25000 rows x 6 columns]"
      ]
     },
     "execution_count": 18,
     "metadata": {},
     "output_type": "execute_result"
    }
   ],
   "source": [
    "anthropology"
   ]
  },
  {
   "cell_type": "code",
   "execution_count": 23,
   "id": "61284a82-04ce-4c4d-9e84-a4bd4b1611ef",
   "metadata": {},
   "outputs": [],
   "source": [
    "anthropology.to_csv('./data/anthropology_cleaned.csv')"
   ]
  },
  {
   "cell_type": "code",
   "execution_count": null,
   "id": "017ab91b-0919-4900-83dc-d3f08c1ac236",
   "metadata": {},
   "outputs": [],
   "source": []
  }
 ],
 "metadata": {
  "kernelspec": {
   "display_name": "Python 3",
   "language": "python",
   "name": "python3"
  },
  "language_info": {
   "codemirror_mode": {
    "name": "ipython",
    "version": 3
   },
   "file_extension": ".py",
   "mimetype": "text/x-python",
   "name": "python",
   "nbconvert_exporter": "python",
   "pygments_lexer": "ipython3",
   "version": "3.8.8"
  }
 },
 "nbformat": 4,
 "nbformat_minor": 5
}
